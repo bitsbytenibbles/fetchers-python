{
 "cells": [
  {
   "cell_type": "code",
   "execution_count": null,
   "metadata": {},
   "outputs": [],
   "source": [
    "import psycopg2\n",
    "# Connect to covid19db.org\n",
    "conn = psycopg2.connect(\n",
    "    host='covid19db.org',\n",
    "    port=5432,\n",
    "    dbname='covid19_play',\n",
    "    user='covid19',\n",
    "    password='covid19'\n",
    ")\n",
    "cur = conn.cursor()\n",
    "cur.execute(\"\"\"SELECT * FROM epidemiology\"\"\")\n",
    "\n",
    "mobility_data = pd.DataFrame(cur.fetchall(), columns=[desc[0] for desc in cur.description])\n",
    "mobility_data.head()"
   ]
  }
 ],
 "metadata": {
  "kernelspec": {
   "display_name": "PyCharm (Notebooks)",
   "language": "python",
   "name": "pycharm-67115653"
  },
  "language_info": {
   "codemirror_mode": {
    "name": "ipython",
    "version": 3
   },
   "file_extension": ".py",
   "mimetype": "text/x-python",
   "name": "python",
   "nbconvert_exporter": "python",
   "pygments_lexer": "ipython3",
   "version": "3.7.5"
  }
 },
 "nbformat": 4,
 "nbformat_minor": 4
}
